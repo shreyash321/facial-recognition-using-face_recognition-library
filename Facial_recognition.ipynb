{
  "nbformat": 4,
  "nbformat_minor": 0,
  "metadata": {
    "colab": {
      "name": "Facial_recognition.ipynb",
      "provenance": [],
      "authorship_tag": "ABX9TyPsDyd7m8w3DlTjGLIlKjYv",
      "include_colab_link": true
    },
    "kernelspec": {
      "name": "python3",
      "display_name": "Python 3"
    },
    "language_info": {
      "name": "python"
    }
  },
  "cells": [
    {
      "cell_type": "markdown",
      "metadata": {
        "id": "view-in-github",
        "colab_type": "text"
      },
      "source": [
        "<a href=\"https://colab.research.google.com/github/shreyash321/facial-recognition-using-face_recognition-library/blob/main/Facial_recognition.ipynb\" target=\"_parent\"><img src=\"https://colab.research.google.com/assets/colab-badge.svg\" alt=\"Open In Colab\"/></a>"
      ]
    },
    {
      "cell_type": "code",
      "execution_count": 1,
      "metadata": {
        "colab": {
          "base_uri": "https://localhost:8080/"
        },
        "id": "oCRXEV66HrM_",
        "outputId": "4d8d3864-953a-4e28-c643-8f73d38663ab"
      },
      "outputs": [
        {
          "output_type": "stream",
          "name": "stdout",
          "text": [
            "Looking in indexes: https://pypi.org/simple, https://us-python.pkg.dev/colab-wheels/public/simple/\n",
            "Collecting face_recognition\n",
            "  Downloading face_recognition-1.3.0-py2.py3-none-any.whl (15 kB)\n",
            "Requirement already satisfied: dlib>=19.7 in /usr/local/lib/python3.7/dist-packages (from face_recognition) (19.18.0+zzzcolab20220513001918)\n",
            "Requirement already satisfied: numpy in /usr/local/lib/python3.7/dist-packages (from face_recognition) (1.21.6)\n",
            "Requirement already satisfied: Pillow in /usr/local/lib/python3.7/dist-packages (from face_recognition) (7.1.2)\n",
            "Requirement already satisfied: Click>=6.0 in /usr/local/lib/python3.7/dist-packages (from face_recognition) (7.1.2)\n",
            "Collecting face-recognition-models>=0.3.0\n",
            "  Downloading face_recognition_models-0.3.0.tar.gz (100.1 MB)\n",
            "\u001b[K     |████████████████████████████████| 100.1 MB 23 kB/s \n",
            "\u001b[?25hBuilding wheels for collected packages: face-recognition-models\n",
            "  Building wheel for face-recognition-models (setup.py) ... \u001b[?25l\u001b[?25hdone\n",
            "  Created wheel for face-recognition-models: filename=face_recognition_models-0.3.0-py2.py3-none-any.whl size=100566186 sha256=3b8629d3a84d06b338eaff00b2da266061f4aa1b0f644e41856d652c55c772ca\n",
            "  Stored in directory: /root/.cache/pip/wheels/d6/81/3c/884bcd5e1c120ff548d57c2ecc9ebf3281c9a6f7c0e7e7947a\n",
            "Successfully built face-recognition-models\n",
            "Installing collected packages: face-recognition-models, face-recognition\n",
            "Successfully installed face-recognition-1.3.0 face-recognition-models-0.3.0\n"
          ]
        }
      ],
      "source": [
        "pip install face_recognition"
      ]
    },
    {
      "cell_type": "code",
      "source": [
        "import face_recognition\n",
        "known_image = face_recognition.load_image_file(\"known_image.jpg\")\n",
        "unknown_image = face_recognition.load_image_file(\"unknown_image.jpg\")\n",
        "try:\n",
        "  known_encoding = face_recognition.face_encodings(known_image)[0]\n",
        "  unknown_encoding = face_recognition.face_encodings(unknown_image)[0]\n",
        "  results = face_recognition.compare_faces([known_encoding], unknown_encoding)\n",
        "  if results[0]==True:\n",
        "    print('both images are of same person')\n",
        "  else:\n",
        "    print('both images are of different persons')\n",
        "except ValueError:\n",
        "  print('try with another input image')"
      ],
      "metadata": {
        "id": "AbwsH5gvIEGW"
      },
      "execution_count": null,
      "outputs": []
    }
  ]
}